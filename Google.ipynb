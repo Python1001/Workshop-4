{
 "cells": [
  {
   "cell_type": "code",
   "execution_count": 1,
   "metadata": {
    "collapsed": true
   },
   "outputs": [],
   "source": [
    "#python beautifulsoup4 parsing google finance data"
   ]
  },
  {
   "cell_type": "code",
   "execution_count": 2,
   "metadata": {
    "collapsed": true
   },
   "outputs": [],
   "source": [
    "import urllib.parse\n",
    "import urllib.request\n",
    "from bs4 import BeautifulSoup\n",
    "import json\n",
    "import sys\n",
    "import os\n",
    "import time\n",
    "import csv\n",
    "import errno\n",
    "\n",
    "DJIA_URL = \"http://www.google.com/finance/historical?q=INDEXDJX%3A.DJI&ei=ZN_2UqD9NOTt6wHYrAE\"\n",
    "\n",
    "def downloadData(queryString):\n",
    "    with urllib.request.urlopen(queryString) as url:\n",
    "        encoding = url.headers.get_content_charset()\n",
    "        result = url.read().decode(encoding)\n",
    "    return result\n",
    "\n",
    "raw_html = downloadData(DJIA_URL)\n",
    "soup = BeautifulSoup(raw_html, \"lxml\")\n",
    "\n",
    "#print(soup)\n",
    "\n",
    "table = soup.findAll(\"table\", {\"class\":\"gf-table historical_price\"})"
   ]
  },
  {
   "cell_type": "code",
   "execution_count": 3,
   "metadata": {},
   "outputs": [
    {
     "name": "stdout",
     "output_type": "stream",
     "text": [
      "<tr>\n",
      "<td class=\"lm\">Jun 19, 2017\n",
      "</td><td class=\"rgt\">21,444.75\n",
      "</td><td class=\"rgt\">21,528.99\n",
      "</td><td class=\"rgt\">21,436.08\n",
      "</td><td class=\"rgt\">21,528.99\n",
      "</td><td class=\"rgt rm\">289,397,979\n",
      "</td></tr>\n"
     ]
    }
   ],
   "source": [
    "prices = soup.find('table', class_='historical_price')\n",
    "rows = prices.find_all('tr')\n",
    "print (rows[1])"
   ]
  },
  {
   "cell_type": "code",
   "execution_count": 4,
   "metadata": {},
   "outputs": [
    {
     "name": "stdout",
     "output_type": "stream",
     "text": [
      "{'Date': 'Jun 19, 2017', 'Open': '21,444.75', 'High': '21,528.99', 'Low': '21,436.08', 'Close': '21,528.99', 'Volume': '289,397,979'}\n",
      "{'Date': 'Jun 16, 2017', 'Open': '21,335.93', 'High': '21,384.42', 'Low': '21,308.01', 'Close': '21,384.28', 'Volume': '603,256,411'}\n",
      "{'Date': 'Jun 15, 2017', 'Open': '21,291.69', 'High': '21,367.28', 'Low': '21,261.87', 'Close': '21,359.90', 'Volume': '317,198,807'}\n",
      "{'Date': 'Jun 14, 2017', 'Open': '21,342.71', 'High': '21,391.97', 'Low': '21,294.09', 'Close': '21,374.56', 'Volume': '295,090,639'}\n",
      "{'Date': 'Jun 13, 2017', 'Open': '21,256.83', 'High': '21,332.77', 'Low': '21,256.83', 'Close': '21,328.47', 'Volume': '323,510,128'}\n",
      "{'Date': 'Jun 12, 2017', 'Open': '21,259.95', 'High': '21,277.08', 'Low': '21,186.15', 'Close': '21,235.67', 'Volume': '528,076,666'}\n",
      "{'Date': 'Jun 9, 2017', 'Open': '21,208.96', 'High': '21,305.35', 'Low': '21,159.45', 'Close': '21,271.97', 'Volume': '397,196,391'}\n",
      "{'Date': 'Jun 8, 2017', 'Open': '21,169.76', 'High': '21,265.69', 'Low': '21,138.16', 'Close': '21,182.53', 'Volume': '330,332,718'}\n",
      "{'Date': 'Jun 7, 2017', 'Open': '21,171.57', 'High': '21,189.84', 'Low': '21,113.31', 'Close': '21,173.69', 'Volume': '273,397,492'}\n",
      "{'Date': 'Jun 6, 2017', 'Open': '21,145.48', 'High': '21,180.47', 'Low': '21,118.46', 'Close': '21,136.23', 'Volume': '283,547,160'}\n",
      "{'Date': 'Jun 5, 2017', 'Open': '21,195.03', 'High': '21,224.41', 'Low': '21,168.69', 'Close': '21,184.04', 'Volume': '269,794,703'}\n",
      "{'Date': 'Jun 2, 2017', 'Open': '21,142.09', 'High': '21,225.04', 'Low': '21,129.56', 'Close': '21,206.29', 'Volume': '329,700,647'}\n",
      "{'Date': 'Jun 1, 2017', 'Open': '21,030.55', 'High': '21,144.18', 'Low': '20,994.22', 'Close': '21,144.18', 'Volume': '276,734,620'}\n",
      "{'Date': 'May 31, 2017', 'Open': '21,048.46', 'High': '21,051.70', 'Low': '20,942.57', 'Close': '21,008.65', 'Volume': '371,582,506'}\n",
      "{'Date': 'May 30, 2017', 'Open': '21,045.49', 'High': '21,063.62', 'Low': '21,009.60', 'Close': '21,029.47', 'Volume': '242,811,721'}\n",
      "{'Date': 'May 26, 2017', 'Open': '21,070.15', 'High': '21,092.82', 'Low': '21,050.49', 'Close': '21,080.28', 'Volume': '207,998,354'}\n",
      "{'Date': 'May 25, 2017', 'Open': '21,062.96', 'High': '21,112.32', 'Low': '21,051.41', 'Close': '21,082.95', 'Volume': '268,967,152'}\n",
      "{'Date': 'May 24, 2017', 'Open': '20,949.21', 'High': '21,022.82', 'Low': '20,933.58', 'Close': '21,012.42', 'Volume': '283,176,732'}\n",
      "{'Date': 'May 23, 2017', 'Open': '20,908.67', 'High': '20,961.14', 'Low': '20,896.22', 'Close': '20,937.91', 'Volume': '244,945,777'}\n",
      "{'Date': 'May 22, 2017', 'Open': '20,867.77', 'High': '20,914.26', 'Low': '20,860.16', 'Close': '20,894.83', 'Volume': '276,120,670'}\n",
      "{'Date': 'May 19, 2017', 'Open': '20,698.28', 'High': '20,857.13', 'Low': '20,687.94', 'Close': '20,804.84', 'Volume': '365,183,459'}\n",
      "{'Date': 'May 18, 2017', 'Open': '20,579.65', 'High': '20,759.20', 'Low': '20,553.45', 'Close': '20,663.02', 'Volume': '422,587,957'}\n",
      "{'Date': 'May 17, 2017', 'Open': '20,846.17', 'High': '20,846.17', 'Low': '20,601.08', 'Close': '20,606.93', 'Volume': '423,200,628'}\n",
      "{'Date': 'May 16, 2017', 'Open': '20,984.48', 'High': '21,033.53', 'Low': '20,932.88', 'Close': '20,979.75', 'Volume': '311,580,371'}\n",
      "{'Date': 'May 15, 2017', 'Open': '20,923.63', 'High': '21,000.83', 'Low': '20,923.63', 'Close': '20,981.94', 'Volume': '313,166,214'}\n",
      "{'Date': 'May 12, 2017', 'Open': '20,893.19', 'High': '20,916.10', 'Low': '20,869.74', 'Close': '20,896.61', 'Volume': '288,496,256'}\n",
      "{'Date': 'May 11, 2017', 'Open': '20,925.72', 'High': '20,933.36', 'Low': '20,798.90', 'Close': '20,919.42', 'Volume': '287,684,141'}\n",
      "{'Date': 'May 10, 2017', 'Open': '20,958.49', 'High': '20,976.28', 'Low': '20,884.15', 'Close': '20,943.11', 'Volume': '283,343,448'}\n",
      "{'Date': 'May 9, 2017', 'Open': '21,022.28', 'High': '21,046.85', 'Low': '20,938.04', 'Close': '20,975.78', 'Volume': '272,996,639'}\n",
      "{'Date': 'May 8, 2017', 'Open': '20,991.26', 'High': '21,017.89', 'Low': '20,971.05', 'Close': '21,012.28', 'Volume': '276,147,273'}\n"
     ]
    }
   ],
   "source": [
    "keys = [th.text.strip() for th in rows[0].find_all('th')]\n",
    "for row in rows[1:]:\n",
    "    data = {key: td.text.strip() for key, td in zip(keys, row.find_all('td'))}\n",
    "    print (data)"
   ]
  },
  {
   "cell_type": "code",
   "execution_count": 5,
   "metadata": {},
   "outputs": [
    {
     "name": "stdout",
     "output_type": "stream",
     "text": [
      "None\n"
     ]
    }
   ],
   "source": [
    "from bs4 import BeautifulSoup\n",
    "\n",
    "import requests\n",
    "\n",
    "html = requests.get('https://www.google.com/finance?q=AAPL').content\n",
    "\n",
    "soup = BeautifulSoup(html, \"html.parser\")\n",
    "\n",
    "x = soup.find(\"div\", class_=\"appbar-snippet-primary\")\n",
    "\n",
    "print(x)"
   ]
  },
  {
   "cell_type": "code",
   "execution_count": 6,
   "metadata": {
    "collapsed": true
   },
   "outputs": [],
   "source": [
    "#Scrape stock price from google finance"
   ]
  },
  {
   "cell_type": "code",
   "execution_count": 7,
   "metadata": {},
   "outputs": [
    {
     "name": "stdout",
     "output_type": "stream",
     "text": [
      "146.34\n"
     ]
    }
   ],
   "source": [
    "import urllib\n",
    "import bs4\n",
    "\n",
    "def get_stock_price(name):\n",
    "    url = \"https://www.google.com/finance\"\n",
    "    req = urllib.request.Request(url)\n",
    "    url_full = url + \"?\" + urllib.parse.urlencode({\"q\": name})\n",
    "    req = urllib.request.Request(url_full)\n",
    "    resp = urllib.request.urlopen(req)\n",
    "    data = resp.read()\n",
    "    bs = bs4.BeautifulSoup(data, \"lxml\")\n",
    "    div_price = bs.find(attrs={\"id\": \"price-panel\"})\n",
    "    span_price = div_price.find(attrs={\"class\": \"pr\"})\n",
    "    return float(span_price.text.strip())\n",
    "\n",
    "print(get_stock_price(\"AAPL\"))"
   ]
  },
  {
   "cell_type": "code",
   "execution_count": 8,
   "metadata": {},
   "outputs": [
    {
     "name": "stdout",
     "output_type": "stream",
     "text": [
      "http://finance.yahoo.com/d/quotes.csv?s=GOOG+AAPL&f=snl1\n",
      "['GOOG', 'Alphabet Inc.', '957.37']\n",
      "['AAPL', 'Apple Inc.', '146.34']\n"
     ]
    }
   ],
   "source": [
    "import csv\n",
    "import urllib.request\n",
    "def yahoo_quotes_csv_url(tickers):\n",
    "    return ''.join(('http://finance.yahoo.com/d/quotes.csv?s=',\n",
    "                    '+'.join(tickers),\n",
    "                    '&f=snl1'))\n",
    "if __name__ == '__main__':\n",
    "    tickers = ('GOOG', 'AAPL')\n",
    "    url = yahoo_quotes_csv_url(tickers)\n",
    "    print(url)\n",
    "    urllib.request.urlretrieve(url, 'quotes.csv')\n",
    "    reader = csv.reader(open('quotes.csv'))\n",
    "    for row in reader:\n",
    "        #row[0]=ticker, row[1]=company, float(row[2])=value\n",
    "        print(row)"
   ]
  },
  {
   "cell_type": "code",
   "execution_count": null,
   "metadata": {
    "collapsed": true
   },
   "outputs": [],
   "source": []
  }
 ],
 "metadata": {
  "kernelspec": {
   "display_name": "Python 3",
   "language": "python",
   "name": "python3"
  },
  "language_info": {
   "codemirror_mode": {
    "name": "ipython",
    "version": 3
   },
   "file_extension": ".py",
   "mimetype": "text/x-python",
   "name": "python",
   "nbconvert_exporter": "python",
   "pygments_lexer": "ipython3",
   "version": "3.6.0"
  }
 },
 "nbformat": 4,
 "nbformat_minor": 2
}
