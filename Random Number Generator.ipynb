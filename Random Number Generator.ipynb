{
 "cells": [
  {
   "cell_type": "markdown",
   "metadata": {},
   "source": [
    "# Random Number Generator"
   ]
  },
  {
   "cell_type": "code",
   "execution_count": 1,
   "metadata": {
    "collapsed": true
   },
   "outputs": [],
   "source": [
    "import random\n",
    "from random import random"
   ]
  },
  {
   "cell_type": "code",
   "execution_count": 2,
   "metadata": {},
   "outputs": [
    {
     "data": {
      "text/plain": [
       "0.017027201804582948"
      ]
     },
     "execution_count": 2,
     "metadata": {},
     "output_type": "execute_result"
    }
   ],
   "source": [
    "x = random()\n",
    "x\n",
    " "
   ]
  },
  {
   "cell_type": "code",
   "execution_count": 3,
   "metadata": {
    "collapsed": true
   },
   "outputs": [],
   "source": [
    "y = [random() for i in range(100)]"
   ]
  },
  {
   "cell_type": "code",
   "execution_count": 4,
   "metadata": {},
   "outputs": [
    {
     "name": "stdout",
     "output_type": "stream",
     "text": [
      "[0.7198906422673305, 0.6959372779155923, 0.2227611493005307, 0.26659805994824637, 0.8065338255450982, 0.5406720113251378, 0.0762220040663859, 0.4715778647493265, 0.17707421274332258, 0.893247590305577, 0.15579460337177686, 0.40677247896105184, 0.8580799835009381, 0.2454667226820798, 0.40913904238600163, 0.5891517524543821, 0.74963084281129, 0.6036097131812179, 0.728501916288155, 0.8721760915080422, 0.031554849407064545, 0.5261818727506502, 0.8559342858162681, 0.7691832494244396, 0.781474409158507, 0.96882217636167, 0.5479779532892864, 0.8922935058434756, 0.11820418479680717, 0.159172008137613, 0.2655851340911586, 0.5341196731380632, 0.8444104019902642, 0.08016225922090003, 0.3771933945984014, 0.16556114948570633, 0.11676075624222582, 0.6277753049469779, 0.8148522942330775, 0.12812382853495397, 0.8398604090116026, 0.6432698090002903, 0.15584961227558847, 0.18151572252481063, 0.7991538603176944, 0.21551533721047023, 0.7622010830567831, 0.12806974799161486, 0.0027665561029164287, 0.2301156261099636, 0.9479430201350104, 0.06477588710089244, 0.5240222427589394, 0.3265352921891891, 0.2806608540424831, 0.8212709850492507, 0.9389894867258162, 0.8694192592876385, 0.255131842085613, 0.9040306295656897, 0.4659760790336407, 0.6231624122699432, 0.8044693446242535, 0.7000008438140045, 0.6064892335375346, 0.45183753602729215, 0.5580202795205872, 0.08580427990255934, 0.3552620797286923, 0.43440430281150877, 0.7773571456728788, 0.7897953832000797, 0.9906432706242352, 0.16224255605374316, 0.6388887428606831, 0.6928503499500445, 0.7674054341245815, 0.6647993561715801, 0.8059075929790019, 0.36845633577274883, 0.4486664811780974, 0.3556937851056764, 0.8551012811572833, 0.5622844678692108, 0.07937836134205445, 0.4764544873257667, 0.124610923523779, 0.3815135049986017, 0.3837761431694562, 0.7629749577202397, 0.8036209121012202, 0.669698462914495, 0.5959789255153729, 0.9138446124188229, 0.8560450035469352, 0.10111754653990013, 0.0066096184651284196, 0.6073990132215219, 0.14942655790184678, 0.477469280047203]\n"
     ]
    }
   ],
   "source": [
    "print(y)"
   ]
  },
  {
   "cell_type": "code",
   "execution_count": 5,
   "metadata": {
    "collapsed": true
   },
   "outputs": [],
   "source": [
    "from matplotlib import pyplot as plt\n",
    "%matplotlib inline"
   ]
  },
  {
   "cell_type": "code",
   "execution_count": 6,
   "metadata": {},
   "outputs": [
    {
     "data": {
      "text/plain": [
       "[<matplotlib.lines.Line2D at 0x75b46d8>]"
      ]
     },
     "execution_count": 6,
     "metadata": {},
     "output_type": "execute_result"
    },
    {
     "data": {
      "image/png": "[encoded data removed]",
      "text/plain": [
       "<matplotlib.figure.Figure at 0x47f3a90>"
      ]
     },
     "metadata": {},
     "output_type": "display_data"
    }
   ],
   "source": [
    "plt.plot(y,\".\")"
   ]
  },
  {
   "cell_type": "code",
   "execution_count": 7,
   "metadata": {},
   "outputs": [
    {
     "data": {
      "text/plain": [
       "0.15579460337177686"
      ]
     },
     "execution_count": 7,
     "metadata": {},
     "output_type": "execute_result"
    }
   ],
   "source": [
    "y[10]"
   ]
  },
  {
   "cell_type": "code",
   "execution_count": 8,
   "metadata": {},
   "outputs": [
    {
     "data": {
      "image/png": "[encoded data removed]",
      "text/plain": [
       "<matplotlib.figure.Figure at 0x75dba58>"
      ]
     },
     "metadata": {},
     "output_type": "display_data"
    }
   ],
   "source": [
    "_ = plt.hist(y) #plot histogram of y"
   ]
  },
  {
   "cell_type": "code",
   "execution_count": null,
   "metadata": {
    "collapsed": true
   },
   "outputs": [],
   "source": []
  }
 ],
 "metadata": {
  "kernelspec": {
   "display_name": "Python 3",
   "language": "python",
   "name": "python3"
  },
  "language_info": {
   "codemirror_mode": {
    "name": "ipython",
    "version": 3
   },
   "file_extension": ".py",
   "mimetype": "text/x-python",
   "name": "python",
   "nbconvert_exporter": "python",
   "pygments_lexer": "ipython3",
   "version": "3.6.1"
  }
 },
 "nbformat": 4,
 "nbformat_minor": 2
}
